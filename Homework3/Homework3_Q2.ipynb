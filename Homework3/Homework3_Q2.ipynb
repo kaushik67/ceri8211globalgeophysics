{
  "nbformat": 4,
  "nbformat_minor": 0,
  "metadata": {
    "colab": {
      "name": "Homework3_Q2.ipynb",
      "provenance": [],
      "collapsed_sections": [],
      "authorship_tag": "ABX9TyM4qTqSD6ZOVVy1wLpH/VsY",
      "include_colab_link": true
    },
    "kernelspec": {
      "name": "python3",
      "display_name": "Python 3"
    }
  },
  "cells": [
    {
      "cell_type": "markdown",
      "metadata": {
        "id": "view-in-github",
        "colab_type": "text"
      },
      "source": [
        "<a href=\"https://colab.research.google.com/github/kaushik67/ceri8211globalgeophysics/blob/master/Homework3/Homework3_Q2.ipynb\" target=\"_parent\"><img src=\"https://colab.research.google.com/assets/colab-badge.svg\" alt=\"Open In Colab\"/></a>"
      ]
    },
    {
      "cell_type": "code",
      "metadata": {
        "id": "Ex4GNTI1jDaL",
        "colab_type": "code",
        "colab": {}
      },
      "source": [
        ""
      ],
      "execution_count": 0,
      "outputs": []
    },
    {
      "cell_type": "code",
      "metadata": {
        "id": "FHJ98i5HeUyW",
        "colab_type": "code",
        "colab": {}
      },
      "source": [
        "import math\n",
        "import numpy as np\n",
        "import matplotlib.pyplot as plt"
      ],
      "execution_count": 0,
      "outputs": []
    },
    {
      "cell_type": "code",
      "metadata": {
        "id": "q-lEc8IPjYZx",
        "colab_type": "code",
        "colab": {}
      },
      "source": [
        ""
      ],
      "execution_count": 0,
      "outputs": []
    },
    {
      "cell_type": "code",
      "metadata": {
        "colab_type": "code",
        "id": "tTV6HMhDj2WD",
        "colab": {}
      },
      "source": [
        "V0=math.pow(10,6) #initial water\n",
        "Vout=6*math.pow(10,4)*1 #surface evaporation of top meter \n",
        "Vin=.005*365*24*60*60\n",
        "Q=Vin-Vout #acumulated water per year (m^3/year)\n",
        "m=40*math.pow(10,3) # pollutant accumulation per year (Kg/year)\n",
        "\n",
        "t = np.arange(0,10000,1) #time\n",
        "Mp = m*t #kg mass of pollutant with time\n",
        "Vw = V0 + Q*t #m^3 total volume of water as a function of time\n",
        "Cp = np.divide(Mp, Vw) #concentration accumulation through time\n"
      ],
      "execution_count": 0,
      "outputs": []
    },
    {
      "cell_type": "code",
      "metadata": {
        "id": "Q2JmmcNknbvN",
        "colab_type": "code",
        "colab": {}
      },
      "source": [
        ""
      ],
      "execution_count": 0,
      "outputs": []
    },
    {
      "cell_type": "code",
      "metadata": {
        "id": "1aiO_2AWPspO",
        "colab_type": "code",
        "outputId": "48152eb4-3066-4f99-fd20-b20da00876b3",
        "colab": {
          "base_uri": "https://localhost:8080/",
          "height": 530
        }
      },
      "source": [
        "fig = plt.figure(figsize=(12,8))\n",
        "plt.plot(t, Cp, 'r-', label='Concentration')\n",
        "plt.grid()\n",
        "plt.legend(loc='best')\n",
        "plt.xlabel('Time (year)')\n",
        "plt.ylabel(' Pollutant concentration (kg/m^3)')\n",
        "plt.title(\"Concentration of pollutant in the lake over the years\")"
      ],
      "execution_count": 0,
      "outputs": [
        {
          "output_type": "execute_result",
          "data": {
            "text/plain": [
              "Text(0.5, 1.0, 'Concentration of pollutant in the lake over the years')"
            ]
          },
          "metadata": {
            "tags": []
          },
          "execution_count": 3
        },
        {
          "output_type": "display_data",
          "data": {
            "image/png": "[encoded data removed]",
            "text/plain": [
              "<Figure size 864x576 with 1 Axes>"
            ]
          },
          "metadata": {
            "tags": []
          }
        }
      ]
    },
    {
      "cell_type": "code",
      "metadata": {
        "id": "QFIZNVMXqazU",
        "colab_type": "code",
        "colab": {}
      },
      "source": [
        "#we can say that as time approaches infinity the concentration will be almost constant like 0.42 (kg/m^3)"
      ],
      "execution_count": 0,
      "outputs": []
    },
    {
      "cell_type": "code",
      "metadata": {
        "id": "TKiyS3l_qluK",
        "colab_type": "code",
        "colab": {}
      },
      "source": [
        ""
      ],
      "execution_count": 0,
      "outputs": []
    }
  ]
}