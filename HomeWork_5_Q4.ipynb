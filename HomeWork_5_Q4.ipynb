{
  "nbformat": 4,
  "nbformat_minor": 0,
  "metadata": {
    "colab": {
      "name": "HomeWork_5_Q4.ipynb",
      "provenance": [],
      "collapsed_sections": [],
      "authorship_tag": "ABX9TyO2GyZMLNHz4aUkQ+DAybYI",
      "include_colab_link": true
    },
    "kernelspec": {
      "name": "python3",
      "display_name": "Python 3"
    }
  },
  "cells": [
    {
      "cell_type": "markdown",
      "metadata": {
        "id": "view-in-github",
        "colab_type": "text"
      },
      "source": [
        "<a href=\"https://colab.research.google.com/github/kaushik67/ceri8211globalgeophysics/blob/master/HomeWork_5_Q4.ipynb\" target=\"_parent\"><img src=\"https://colab.research.google.com/assets/colab-badge.svg\" alt=\"Open In Colab\"/></a>"
      ]
    },
    {
      "cell_type": "code",
      "metadata": {
        "id": "Oj2VzldVolaS",
        "colab_type": "code",
        "colab": {}
      },
      "source": [
        "#HW_5_4\n",
        "import numpy as np\n",
        "import math"
      ],
      "execution_count": 0,
      "outputs": []
    },
    {
      "cell_type": "code",
      "metadata": {
        "id": "WFk-w_F_NUzq",
        "colab_type": "code",
        "outputId": "aad61507-dbec-46cc-b723-2256e89226cf",
        "colab": {
          "base_uri": "https://localhost:8080/",
          "height": 50
        }
      },
      "source": [
        "class variables():\n",
        "\n",
        "  def __init__(self, lambdax, phix, lambdap, phip, omega): #variables as described in book\n",
        "\n",
        "      lambdax=math.radians(lambdax)\n",
        "      lambdap=math.radians(lambdap)\n",
        "      phix=math.radians(phix)\n",
        "      phip=math.radians(phip)\n",
        "      omega=math.radians(omega)\n",
        "      R=6371*math.pow(10,5)\n",
        "      a=math.degrees(math.acos(math.sin(lambdax)*math.sin(lambdap)+math.cos(lambdax)*math.cos(lambdap)*math.cos(phip-phix)))\n",
        "      C=math.degrees(math.asin((math.cos(lambdap)*math.sin(phip-phix)/(math.sin(math.radians(a))))))\n",
        "      b=math.sin(lambdax)*math.sin(lambdap)+math.cos(lambdax)*math.cos(lambdap)*math.cos(phip-phix)\n",
        "      \n",
        "      v=omega*R*math.sin(math.radians(a))\n",
        "      self.velocity = v \n",
        "        \n",
        "      \n",
        "      az=90+C \n",
        "      self.azimuth = az\n",
        "\n",
        "West_Aleutian = variables(54,169,48.7,-78.2,7.5*math.pow(10,-7)) #West Aluetian Trench variables\n",
        "East_Aleutian=variables(52,-169,48.7,-78.2,7.5*math.pow(10,-7)) #East Aluetian Trench variables\n",
        "SanFan_SanAn=variables(38,-122,48.7,-78.2,7.5*math.pow(10,-7)) #San Francisco-San Andreas fault\n",
        "East_Pac_rise=variables(-13,-112,55.6,-90.1,13.6*math.pow(10,-7)) #East Pacific rise variables\n",
        "Atlan_Pac_rise=variables(-59,-150,-64.3,96,8.7*math.pow(10,-7)) #Antarctic Pacific ridge variables\n",
        "\n",
        "print(\"West Aluetian Trench relative motion (cm/year)=\")\n",
        "West_Aleutian.velocity\n"
      ],
      "execution_count": 2,
      "outputs": [
        {
          "output_type": "stream",
          "text": [
            "West Aluetian Trench relative motion (cm/year)=\n"
          ],
          "name": "stdout"
        },
        {
          "output_type": "execute_result",
          "data": {
            "text/plain": [
              "7.4158717747284815"
            ]
          },
          "metadata": {
            "tags": []
          },
          "execution_count": 2
        }
      ]
    },
    {
      "cell_type": "code",
      "metadata": {
        "colab_type": "code",
        "id": "To_NUMMkXbZ9",
        "outputId": "75a2bb72-ab0d-45f8-93af-14ab28e5ba16",
        "colab": {
          "base_uri": "https://localhost:8080/",
          "height": 50
        }
      },
      "source": [
        "\n",
        "print(\"West Aluetian Trench azimuth=\")\n",
        "West_Aleutian.azimuth\n",
        "\n",
        "\n"
      ],
      "execution_count": 3,
      "outputs": [
        {
          "output_type": "stream",
          "text": [
            "West Aluetian Trench azimuth=\n"
          ],
          "name": "stdout"
        },
        {
          "output_type": "execute_result",
          "data": {
            "text/plain": [
              "133.17426426582205"
            ]
          },
          "metadata": {
            "tags": []
          },
          "execution_count": 3
        }
      ]
    },
    {
      "cell_type": "code",
      "metadata": {
        "colab_type": "code",
        "outputId": "e340f08c-11be-43c5-e978-9a3bb21e90c5",
        "id": "mJKnn-GDRIMK",
        "colab": {
          "base_uri": "https://localhost:8080/",
          "height": 50
        }
      },
      "source": [
        "print(\"East Aluetian Trench relative motion (cm/year)=\")\n",
        "East_Aleutian.velocity\n"
      ],
      "execution_count": 4,
      "outputs": [
        {
          "output_type": "stream",
          "text": [
            "East Aluetian Trench relative motion (cm/year)=\n"
          ],
          "name": "stdout"
        },
        {
          "output_type": "execute_result",
          "data": {
            "text/plain": [
              "6.755689573597157"
            ]
          },
          "metadata": {
            "tags": []
          },
          "execution_count": 4
        }
      ]
    },
    {
      "cell_type": "code",
      "metadata": {
        "colab_type": "code",
        "outputId": "8915ba09-2857-4a46-ab41-70dd6cf28f81",
        "id": "yH994FilICbj",
        "colab": {
          "base_uri": "https://localhost:8080/",
          "height": 50
        }
      },
      "source": [
        "print(\"East Aluetian Trench azimuth=\")\n",
        "East_Aleutian.azimuth"
      ],
      "execution_count": 5,
      "outputs": [
        {
          "output_type": "stream",
          "text": [
            "East Aluetian Trench azimuth=\n"
          ],
          "name": "stdout"
        },
        {
          "output_type": "execute_result",
          "data": {
            "text/plain": [
              "144.55428653422854"
            ]
          },
          "metadata": {
            "tags": []
          },
          "execution_count": 5
        }
      ]
    },
    {
      "cell_type": "code",
      "metadata": {
        "colab_type": "code",
        "outputId": "cbbe75de-230c-41fa-b0be-dc6cf374547f",
        "id": "fws3TnjASuCS",
        "colab": {
          "base_uri": "https://localhost:8080/",
          "height": 50
        }
      },
      "source": [
        "print(\"San Francisco-San Andreas fault relative motion (cm/year)=\")\n",
        "SanFan_SanAn.velocity"
      ],
      "execution_count": 6,
      "outputs": [
        {
          "output_type": "stream",
          "text": [
            "San Francisco-San Andreas fault relative motion (cm/year)=\n"
          ],
          "name": "stdout"
        },
        {
          "output_type": "execute_result",
          "data": {
            "text/plain": [
              "4.551917564561647"
            ]
          },
          "metadata": {
            "tags": []
          },
          "execution_count": 6
        }
      ]
    },
    {
      "cell_type": "code",
      "metadata": {
        "id": "uQc_53F_x8-J",
        "colab_type": "code",
        "outputId": "c3673f24-f500-4adf-9dc8-5e5c222f6cda",
        "colab": {
          "base_uri": "https://localhost:8080/",
          "height": 50
        }
      },
      "source": [
        "print(\"San Francisco-San Andreas fault azimuth=\")\n",
        "SanFan_SanAn.azimuth"
      ],
      "execution_count": 7,
      "outputs": [
        {
          "output_type": "stream",
          "text": [
            "San Francisco-San Andreas fault azimuth=\n"
          ],
          "name": "stdout"
        },
        {
          "output_type": "execute_result",
          "data": {
            "text/plain": [
              "146.8180845732186"
            ]
          },
          "metadata": {
            "tags": []
          },
          "execution_count": 7
        }
      ]
    },
    {
      "cell_type": "code",
      "metadata": {
        "id": "S-0gUateyJ_d",
        "colab_type": "code",
        "outputId": "8237f8c4-1deb-44bf-f808-bc99bc09e832",
        "colab": {
          "base_uri": "https://localhost:8080/",
          "height": 50
        }
      },
      "source": [
        "print(\"East Pacific Rise relative motion (cm/year)=\")\n",
        "East_Pac_rise.velocity"
      ],
      "execution_count": 8,
      "outputs": [
        {
          "output_type": "stream",
          "text": [
            "East Pacific Rise relative motion (cm/year)=\n"
          ],
          "name": "stdout"
        },
        {
          "output_type": "execute_result",
          "data": {
            "text/plain": [
              "14.300781703597059"
            ]
          },
          "metadata": {
            "tags": []
          },
          "execution_count": 8
        }
      ]
    },
    {
      "cell_type": "code",
      "metadata": {
        "id": "F9Z9X9c1yOcf",
        "colab_type": "code",
        "outputId": "52b47875-7c38-4d97-ae92-c99a2ecf26c6",
        "colab": {
          "base_uri": "https://localhost:8080/",
          "height": 50
        }
      },
      "source": [
        "print(\"East Pacific Rise azimuth=\")\n",
        "East_Pac_rise.azimuth"
      ],
      "execution_count": 9,
      "outputs": [
        {
          "output_type": "stream",
          "text": [
            "East Pacific Rise azimuth=\n"
          ],
          "name": "stdout"
        },
        {
          "output_type": "execute_result",
          "data": {
            "text/plain": [
              "102.87555237529176"
            ]
          },
          "metadata": {
            "tags": []
          },
          "execution_count": 9
        }
      ]
    },
    {
      "cell_type": "code",
      "metadata": {
        "id": "f-677FCUyRRp",
        "colab_type": "code",
        "outputId": "88b41ec5-5c2b-4e44-d19e-b73b799131be",
        "colab": {
          "base_uri": "https://localhost:8080/",
          "height": 50
        }
      },
      "source": [
        "print(\"Antarctic-Pacific ridge relative motion (cm/year)=\")\n",
        "Atlan_Pac_rise.velocity"
      ],
      "execution_count": 10,
      "outputs": [
        {
          "output_type": "stream",
          "text": [
            "Antarctic-Pacific ridge relative motion (cm/year)=\n"
          ],
          "name": "stdout"
        },
        {
          "output_type": "execute_result",
          "data": {
            "text/plain": [
              "7.079319156148163"
            ]
          },
          "metadata": {
            "tags": []
          },
          "execution_count": 10
        }
      ]
    },
    {
      "cell_type": "code",
      "metadata": {
        "id": "DNqLQs7VzQT7",
        "colab_type": "code",
        "outputId": "38815b71-8946-468b-a02f-d976bc093134",
        "colab": {
          "base_uri": "https://localhost:8080/",
          "height": 50
        }
      },
      "source": [
        "print(\"Antarctic-Pacific ridge azimuth=\")\n",
        "Atlan_Pac_rise.azimuth"
      ],
      "execution_count": 11,
      "outputs": [
        {
          "output_type": "stream",
          "text": [
            "Antarctic-Pacific ridge azimuth=\n"
          ],
          "name": "stdout"
        },
        {
          "output_type": "execute_result",
          "data": {
            "text/plain": [
              "57.22329188223515"
            ]
          },
          "metadata": {
            "tags": []
          },
          "execution_count": 11
        }
      ]
    },
    {
      "cell_type": "code",
      "metadata": {
        "id": "W491KAKZzSh9",
        "colab_type": "code",
        "colab": {}
      },
      "source": [
        ""
      ],
      "execution_count": 0,
      "outputs": []
    }
  ]
}