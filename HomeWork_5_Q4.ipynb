{
  "nbformat": 4,
  "nbformat_minor": 0,
  "metadata": {
    "colab": {
      "name": "HomeWork_5_Q4.ipynb",
      "provenance": [],
      "collapsed_sections": [],
      "authorship_tag": "ABX9TyMVWs8XaRT61oQwB3DpE3PU",
      "include_colab_link": true
    },
    "kernelspec": {
      "name": "python3",
      "display_name": "Python 3"
    }
  },
  "cells": [
    {
      "cell_type": "markdown",
      "metadata": {
        "id": "view-in-github",
        "colab_type": "text"
      },
      "source": [
        "<a href=\"https://colab.research.google.com/github/kaushik67/ceri8211globalgeophysics/blob/master/HomeWork_5_Q4.ipynb\" target=\"_parent\"><img src=\"https://colab.research.google.com/assets/colab-badge.svg\" alt=\"Open In Colab\"/></a>"
      ]
    },
    {
      "cell_type": "code",
      "metadata": {
        "id": "Oj2VzldVolaS",
        "colab_type": "code",
        "colab": {}
      },
      "source": [
        "#HW_5_4\n",
        "import numpy as np\n",
        "import math"
      ],
      "execution_count": 0,
      "outputs": []
    },
    {
      "cell_type": "code",
      "metadata": {
        "id": "WFk-w_F_NUzq",
        "colab_type": "code",
        "outputId": "d3e0ef55-e290-4f5b-fdf3-a65c1cecb7ce",
        "colab": {
          "base_uri": "https://localhost:8080/",
          "height": 50
        }
      },
      "source": [
        "class variables():\n",
        "\n",
        "  def __init__(self, lambdax, phix, lambdap, phip, omega): #variables as described in book\n",
        "\n",
        "      lambdax=math.radians(lambdax)\n",
        "      #print(\"lambdax=\",lambdax)\n",
        "      lambdap=math.radians(lambdap)\n",
        "      #print(\"lambdap=\",lambdap)\n",
        "      phix=math.radians(phix)\n",
        "      #print(\"phix=\",phix)\n",
        "      phip=math.radians(phip)\n",
        "      #print(\"phip=\",phip)\n",
        "      omega=math.radians(omega)\n",
        "      #print(\"omega=\",omega)\n",
        "      R=6371*math.pow(10,5)\n",
        "      #print(\"R=\",R)\n",
        "      a=math.degrees(math.acos(math.sin(lambdax)*math.sin(lambdap)+math.cos(lambdax)*math.cos(lambdap)*math.cos(phip-phix)))\n",
        "      #print(\"a=\",a)\n",
        "      C=math.degrees(math.asin((math.cos(lambdap)*math.sin(phip-phix)/(math.sin(math.radians(a))))))\n",
        "      #print(\"C=\",C)\n",
        "      b=math.sin(lambdax)*math.sin(lambdap)+math.cos(lambdax)*math.cos(lambdap)*math.cos(phip-phix)\n",
        "      #print(\"b=\",b)\n",
        "      \n",
        "      v=omega*R*math.sin(math.radians(a))\n",
        "      self.velocity = v \n",
        "      #print(\"velocity=\",v)\n",
        "        \n",
        "      \n",
        "      az=90+C \n",
        "      self.azimuth = az\n",
        "      #print(\"azimuth=\",az)\n",
        "\n",
        "West_Aleutian = variables(54,169,48.7,-78.2,7.5*math.pow(10,-7)) #West Aluetian Trench variables\n",
        "East_Aleutian=variables(52,-169,48.7,-78.2,7.5*math.pow(10,-7)) #East Aluetian Trench variables\n",
        "SanFan_SanAn=variables(38,-122,48.7,-78.2,7.5*math.pow(10,-7)) #San Francisco-San Andreas fault\n",
        "East_Pac_rise=variables(-13,-112,55.6,-90.1,13.6*math.pow(10,-7)) #East Pacific rise variables\n",
        "Atlan_Pac_rise=variables(-59,-150,-64.3,96,8.7*math.pow(10,-7)) #Antarctic Pacific ridge variables\n",
        "\n",
        "print(\"West Aluetian Trench relative motion (cm/year)=\")\n",
        "West_Aleutian.velocity\n"
      ],
      "execution_count": 0,
      "outputs": [
        {
          "output_type": "stream",
          "text": [
            "West Aluetian Trench relative motion (cm/year)=\n"
          ],
          "name": "stdout"
        },
        {
          "output_type": "execute_result",
          "data": {
            "text/plain": [
              "7.4158717747284815"
            ]
          },
          "metadata": {
            "tags": []
          },
          "execution_count": 16
        }
      ]
    },
    {
      "cell_type": "code",
      "metadata": {
        "colab_type": "code",
        "id": "To_NUMMkXbZ9",
        "outputId": "e259b03f-e88f-4f85-a202-4f34a69248e4",
        "colab": {
          "base_uri": "https://localhost:8080/",
          "height": 50
        }
      },
      "source": [
        "\n",
        "print(\"West Aluetian Trench azimuth=\")\n",
        "West_Aleutian.azimuth\n",
        "\n",
        "\n"
      ],
      "execution_count": 0,
      "outputs": [
        {
          "output_type": "stream",
          "text": [
            "West Aluetian Trench azimuth=\n"
          ],
          "name": "stdout"
        },
        {
          "output_type": "execute_result",
          "data": {
            "text/plain": [
              "133.17426426582205"
            ]
          },
          "metadata": {
            "tags": []
          },
          "execution_count": 17
        }
      ]
    },
    {
      "cell_type": "code",
      "metadata": {
        "colab_type": "code",
        "outputId": "51f2b56d-a1b3-4021-a5bd-3cb086409c38",
        "id": "mJKnn-GDRIMK",
        "colab": {
          "base_uri": "https://localhost:8080/",
          "height": 50
        }
      },
      "source": [
        "print(\"East Aluetian Trench relative motion (cm/year)=\")\n",
        "East_Aleutian.velocity\n"
      ],
      "execution_count": 0,
      "outputs": [
        {
          "output_type": "stream",
          "text": [
            "East Aluetian Trench relative motion (cm/year)=\n"
          ],
          "name": "stdout"
        },
        {
          "output_type": "execute_result",
          "data": {
            "text/plain": [
              "6.755689573597157"
            ]
          },
          "metadata": {
            "tags": []
          },
          "execution_count": 18
        }
      ]
    },
    {
      "cell_type": "code",
      "metadata": {
        "colab_type": "code",
        "outputId": "835b2abd-0fe8-4d38-d385-dbe4f44b5cab",
        "id": "yH994FilICbj",
        "colab": {
          "base_uri": "https://localhost:8080/",
          "height": 50
        }
      },
      "source": [
        "print(\"East Aluetian Trench azimuth=\")\n",
        "East_Aleutian.azimuth"
      ],
      "execution_count": 0,
      "outputs": [
        {
          "output_type": "stream",
          "text": [
            "East Aluetian Trench azimuth=\n"
          ],
          "name": "stdout"
        },
        {
          "output_type": "execute_result",
          "data": {
            "text/plain": [
              "144.55428653422854"
            ]
          },
          "metadata": {
            "tags": []
          },
          "execution_count": 19
        }
      ]
    },
    {
      "cell_type": "code",
      "metadata": {
        "colab_type": "code",
        "outputId": "3b205600-e3e1-4b2a-d187-7fa1f79512ef",
        "id": "fws3TnjASuCS",
        "colab": {
          "base_uri": "https://localhost:8080/",
          "height": 50
        }
      },
      "source": [
        "print(\"San Francisco-San Andreas fault relative motion (cm/year)=\")\n",
        "SanFan_SanAn.velocity"
      ],
      "execution_count": 0,
      "outputs": [
        {
          "output_type": "stream",
          "text": [
            "San Francisco-San Andreas fault relative motion (cm/year)=\n"
          ],
          "name": "stdout"
        },
        {
          "output_type": "execute_result",
          "data": {
            "text/plain": [
              "4.551917564561647"
            ]
          },
          "metadata": {
            "tags": []
          },
          "execution_count": 20
        }
      ]
    },
    {
      "cell_type": "code",
      "metadata": {
        "id": "uQc_53F_x8-J",
        "colab_type": "code",
        "outputId": "73aeee68-aab9-46af-97bb-24a5e289666f",
        "colab": {
          "base_uri": "https://localhost:8080/",
          "height": 50
        }
      },
      "source": [
        "print(\"San Francisco-San Andreas fault azimuth=\")\n",
        "SanFan_SanAn.azimuth"
      ],
      "execution_count": 0,
      "outputs": [
        {
          "output_type": "stream",
          "text": [
            "San Francisco-San Andreas fault azimuth=\n"
          ],
          "name": "stdout"
        },
        {
          "output_type": "execute_result",
          "data": {
            "text/plain": [
              "146.8180845732186"
            ]
          },
          "metadata": {
            "tags": []
          },
          "execution_count": 21
        }
      ]
    },
    {
      "cell_type": "code",
      "metadata": {
        "id": "S-0gUateyJ_d",
        "colab_type": "code",
        "outputId": "f0176bb8-dab2-464b-eb7c-d4a0cdff379e",
        "colab": {
          "base_uri": "https://localhost:8080/",
          "height": 50
        }
      },
      "source": [
        "print(\"East Pacific Rise relative motion (cm/year)=\")\n",
        "East_Pac_rise.velocity"
      ],
      "execution_count": 0,
      "outputs": [
        {
          "output_type": "stream",
          "text": [
            "East Pacific Rise relative motion (cm/year)=\n"
          ],
          "name": "stdout"
        },
        {
          "output_type": "execute_result",
          "data": {
            "text/plain": [
              "14.300781703597059"
            ]
          },
          "metadata": {
            "tags": []
          },
          "execution_count": 22
        }
      ]
    },
    {
      "cell_type": "code",
      "metadata": {
        "id": "F9Z9X9c1yOcf",
        "colab_type": "code",
        "outputId": "63cb2ccd-ec2c-42cf-cd3c-02d00614026a",
        "colab": {
          "base_uri": "https://localhost:8080/",
          "height": 50
        }
      },
      "source": [
        "print(\"East Pacific Rise azimuth=\")\n",
        "East_Pac_rise.azimuth"
      ],
      "execution_count": 0,
      "outputs": [
        {
          "output_type": "stream",
          "text": [
            "East Pacific Rise azimuth=\n"
          ],
          "name": "stdout"
        },
        {
          "output_type": "execute_result",
          "data": {
            "text/plain": [
              "102.87555237529176"
            ]
          },
          "metadata": {
            "tags": []
          },
          "execution_count": 23
        }
      ]
    },
    {
      "cell_type": "code",
      "metadata": {
        "id": "f-677FCUyRRp",
        "colab_type": "code",
        "outputId": "ede3f718-1337-43be-9885-2691a9700cba",
        "colab": {
          "base_uri": "https://localhost:8080/",
          "height": 50
        }
      },
      "source": [
        "print(\"Antarctic-Pacific ridge relative motion (cm/year)=\")\n",
        "Atlan_Pac_rise.velocity"
      ],
      "execution_count": 0,
      "outputs": [
        {
          "output_type": "stream",
          "text": [
            "Antarctic-Pacific ridge relative motion (cm/year)=\n"
          ],
          "name": "stdout"
        },
        {
          "output_type": "execute_result",
          "data": {
            "text/plain": [
              "7.079319156148163"
            ]
          },
          "metadata": {
            "tags": []
          },
          "execution_count": 24
        }
      ]
    },
    {
      "cell_type": "code",
      "metadata": {
        "id": "DNqLQs7VzQT7",
        "colab_type": "code",
        "outputId": "210ca753-2bfc-4c2f-9904-ccc7de2b552c",
        "colab": {
          "base_uri": "https://localhost:8080/",
          "height": 50
        }
      },
      "source": [
        "print(\"Antarctic-Pacific ridge azimuth=\")\n",
        "Atlan_Pac_rise.azimuth"
      ],
      "execution_count": 0,
      "outputs": [
        {
          "output_type": "stream",
          "text": [
            "Antarctic-Pacific ridge azimuth=\n"
          ],
          "name": "stdout"
        },
        {
          "output_type": "execute_result",
          "data": {
            "text/plain": [
              "57.22329188223515"
            ]
          },
          "metadata": {
            "tags": []
          },
          "execution_count": 25
        }
      ]
    },
    {
      "cell_type": "code",
      "metadata": {
        "id": "W491KAKZzSh9",
        "colab_type": "code",
        "colab": {}
      },
      "source": [
        ""
      ],
      "execution_count": 0,
      "outputs": []
    }
  ]
}