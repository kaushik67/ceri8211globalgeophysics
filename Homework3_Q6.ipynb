{
  "nbformat": 4,
  "nbformat_minor": 0,
  "metadata": {
    "colab": {
      "name": "Homework3_Q6.ipynb",
      "provenance": [],
      "collapsed_sections": [],
      "authorship_tag": "ABX9TyMJTrwj7BCa4TP0CnIJ2SrP",
      "include_colab_link": true
    },
    "kernelspec": {
      "name": "python3",
      "display_name": "Python 3"
    }
  },
  "cells": [
    {
      "cell_type": "markdown",
      "metadata": {
        "id": "view-in-github",
        "colab_type": "text"
      },
      "source": [
        "<a href=\"https://colab.research.google.com/github/kaushik67/ceri8211globalgeophysics/blob/master/Homework3_Q6.ipynb\" target=\"_parent\"><img src=\"https://colab.research.google.com/assets/colab-badge.svg\" alt=\"Open In Colab\"/></a>"
      ]
    },
    {
      "cell_type": "code",
      "metadata": {
        "id": "fpyHdJgZbBGJ",
        "colab_type": "code",
        "colab": {}
      },
      "source": [
        "import numpy as np\n",
        "import matplotlib.pyplot as plt\n",
        "import math\n"
      ],
      "execution_count": 0,
      "outputs": []
    },
    {
      "cell_type": "code",
      "metadata": {
        "id": "ttESkDhNbxf8",
        "colab_type": "code",
        "outputId": "9dbb67e6-37e5-4fd6-dc6e-8205cd61586e",
        "colab": {
          "base_uri": "https://localhost:8080/",
          "height": 34
        }
      },
      "source": [
        "Ar39_36 = [1852, 1790, 1439, 3214, 2708]\n",
        "Ar40_36 = [8855, 8439, 6867, 15380, 12970] \n",
        "j=.00964\n",
        "lambdaA=4.96*math.pow(10,-10)\n",
        "lambdaC=5.81*math.pow(10,-11)\n",
        "Ar40_39=np.divide(Ar40_36,Ar39_36)\n",
        "print(Ar40_39)\n",
        "#Ar40 vs Ar39 ratio for max heating temperature 750, 830, 895, 970 and 1030 respectively"
      ],
      "execution_count": 0,
      "outputs": [
        {
          "output_type": "stream",
          "text": [
            "[4.78131749 4.71452514 4.77206393 4.78531425 4.78951256]\n"
          ],
          "name": "stdout"
        }
      ]
    },
    {
      "cell_type": "code",
      "metadata": {
        "id": "-pmLosmKcAZA",
        "colab_type": "code",
        "outputId": "698f5647-c477-430e-9bba-7ef58b8235fe",
        "colab": {
          "base_uri": "https://localhost:8080/",
          "height": 34
        }
      },
      "source": [
        "\n",
        "l=np.divide(1,(lambdaA+lambdaC))\n",
        "o=np.ones(5)\n",
        "k=Ar40_39*j+o\n",
        "age=(l*np.log(k))/math.pow(10,6)\n",
        "print(age) \n",
        "#for max heating temperature 750, 830, 895, 970 and 1030 respectively in Million Yrs"
      ],
      "execution_count": 0,
      "outputs": [
        {
          "output_type": "stream",
          "text": [
            "[81.32326459 80.2120972  81.16936181 81.38973352 81.45955172]\n"
          ],
          "name": "stdout"
        }
      ]
    },
    {
      "cell_type": "code",
      "metadata": {
        "id": "ejivjfh6cSOG",
        "colab_type": "code",
        "outputId": "a00bc023-44d7-4cc9-a248-3fbe496f336a",
        "colab": {
          "base_uri": "https://localhost:8080/",
          "height": 638
        }
      },
      "source": [
        "p = np.polyfit(Ar39_36,Ar40_36,1 )\n",
        "x = np.arange(0,3500,100)\n",
        "y = np.polyval(p, x)\n",
        "plt.figure(1,figsize=(10,10))\n",
        "plt.title(' Ar-Ar isochron ')\n",
        "plt.plot(x,y,'r-')\n",
        "plt.plot(Ar39_36,Ar40_36,'bo')\n",
        "plt.xlabel('39Ar/36Ar')\n",
        "plt.ylabel(' 40Ar/36Ar ')\n",
        "print(p) #Printing slope and intercept respectively"
      ],
      "execution_count": 0,
      "outputs": [
        {
          "output_type": "stream",
          "text": [
            "[   4.82007676 -104.86090804]\n"
          ],
          "name": "stdout"
        },
        {
          "output_type": "display_data",
          "data": {
            "image/png": "[encoded data removed]",
            "text/plain": [
              "<Figure size 720x720 with 1 Axes>"
            ]
          },
          "metadata": {
            "tags": []
          }
        }
      ]
    },
    {
      "cell_type": "code",
      "metadata": {
        "id": "EPU5DuXOd0V8",
        "colab_type": "code",
        "colab": {}
      },
      "source": [
        ""
      ],
      "execution_count": 0,
      "outputs": []
    }
  ]
}